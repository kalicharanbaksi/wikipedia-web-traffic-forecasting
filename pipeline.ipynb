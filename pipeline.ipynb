{
  "nbformat": 4,
  "nbformat_minor": 0,
  "metadata": {
    "colab": {
      "name": "pipeline.ipynb",
      "provenance": []
    },
    "kernelspec": {
      "name": "python3",
      "display_name": "Python 3"
    }
  },
  "cells": [
    {
      "cell_type": "code",
      "metadata": {
        "id": "zDVDP5VHWqqO"
      },
      "source": [
        "import numpy as np\r\n",
        "import pickle\r\n",
        "import pandas as pd\r\n",
        "import datetime\r\n",
        "import re\r\n",
        "from prettytable import PrettyTable\r\n",
        "import warnings\r\n",
        "warnings.filterwarnings('ignore')\r\n",
        "from sklearn.preprocessing import LabelEncoder,normalize\r\n",
        "from keras.models import load_model"
      ],
      "execution_count": null,
      "outputs": []
    },
    {
      "cell_type": "code",
      "metadata": {
        "colab": {
          "base_uri": "https://localhost:8080/"
        },
        "id": "_LjXvV_JY3c4",
        "outputId": "e6aeef2b-ad0b-45aa-c321-f0f5d38a6d28"
      },
      "source": [
        "from google.colab import drive\n",
        "drive.mount('/content/drive')"
      ],
      "execution_count": null,
      "outputs": [
        {
          "output_type": "stream",
          "text": [
            "Mounted at /content/drive\n"
          ],
          "name": "stdout"
        }
      ]
    },
    {
      "cell_type": "code",
      "metadata": {
        "colab": {
          "base_uri": "https://localhost:8080/"
        },
        "id": "EZ9AZUejY4q3",
        "outputId": "bebe76ea-f2ee-4a07-c505-fb4e36bc1915"
      },
      "source": [
        "%cd /content/drive/MyDrive/Kaggle"
      ],
      "execution_count": null,
      "outputs": [
        {
          "output_type": "stream",
          "text": [
            "/content/drive/MyDrive/Kaggle\n"
          ],
          "name": "stdout"
        }
      ]
    },
    {
      "cell_type": "code",
      "metadata": {
        "colab": {
          "base_uri": "https://localhost:8080/",
          "height": 34
        },
        "id": "KoheXqCsZS8R",
        "outputId": "1861bf8b-1785-4ccc-8b20-30bcf6712655"
      },
      "source": [
        "%pwd"
      ],
      "execution_count": null,
      "outputs": [
        {
          "output_type": "execute_result",
          "data": {
            "application/vnd.google.colaboratory.intrinsic+json": {
              "type": "string"
            },
            "text/plain": [
              "'/content/drive/MyDrive/Kaggle'"
            ]
          },
          "metadata": {
            "tags": []
          },
          "execution_count": 3
        }
      ]
    },
    {
      "cell_type": "code",
      "metadata": {
        "id": "CwUVCOXTZqTC"
      },
      "source": [
        "def final(page,date):\r\n",
        "  date1=datetime.date(2017,7,9)\r\n",
        "  k=date.split(\"-\")\r\n",
        "  date2=datetime.date(int(k[0]),int(k[1]),int(k[2]))\r\n",
        "  date_diff=(date2-date1).days\r\n",
        "  data=pd.read_csv(\"final.csv\")\r\n",
        "  index=data[data[\"Page\"]==page].index.values\r\n",
        "  k =np.array(data.iloc[index[0]].values[-264:], dtype=int) \r\n",
        "  x_pred=k[:200] \r\n",
        "  y_true=k[200:264]\r\n",
        "  x_pred=np.log1p(x_pred)\r\n",
        "  access=[]\r\n",
        "  agent=[]\r\n",
        "  language=[]\r\n",
        "  temp=page.split(\".\")\r\n",
        "  k=temp[-3].split(\"_\")\r\n",
        "  if k[-1]==\"commons\" or k[-1]==\"www\":\r\n",
        "    language.append(\"media\")\r\n",
        "  else:\r\n",
        "    language.append(k[-1])\r\n",
        "  t=temp[-1].split(\"_\")\r\n",
        "  access.append(t[1])\r\n",
        "  agent.append(t[2])\r\n",
        "  with open('enc_access','rb') as file:\r\n",
        "    access_enc=pickle.load(file) \r\n",
        "\r\n",
        "  with open('enc_language','rb') as file:\r\n",
        "    lang_enc=pickle.load(file)\r\n",
        "\r\n",
        "  with open('enc_agent','rb') as file:\r\n",
        "    agent_enc=pickle.load(file)\r\n",
        "  access_ohe=access_enc.transform([access]).reshape(1,1)\r\n",
        "  agent_ohe=agent_enc.transform([agent]).reshape(1,1)\r\n",
        "  language_ohe=lang_enc.transform([language]).reshape(1,1)\r\n",
        "  model=load_model(\"lstm.h5\")\r\n",
        "  x_pred=np.array(x_pred).reshape(1,200,1)\r\n",
        "  pred=model.predict([x_pred,access_ohe,language_ohe,agent_ohe])\r\n",
        "  pred=np.expm1(pred)\r\n",
        "  return agent[0],access[0],language[0],int(pred[0][date_diff]),y_true[date_diff]"
      ],
      "execution_count": null,
      "outputs": []
    },
    {
      "cell_type": "code",
      "metadata": {
        "colab": {
          "base_uri": "https://localhost:8080/"
        },
        "id": "Vpm7diU50VkK",
        "outputId": "1abfa06d-1506-435b-d30c-5e247755f14a"
      },
      "source": [
        "x = PrettyTable()\r\n",
        "start=datetime.datetime.now()\r\n",
        "agent,access,language,predicted,y_true=final(\"2PM_zh.wikipedia.org_all-access_spider\",\"2017-7-20\")\r\n",
        "x = PrettyTable([\"agent\",\"Access\", \"Language\",'Predicted','Time Taken'])\r\n",
        "x.add_row([agent,access,language,predicted,datetime.datetime.now()-start])\r\n",
        "print(x)"
      ],
      "execution_count": null,
      "outputs": [
        {
          "output_type": "stream",
          "text": [
            "+--------+------------+----------+-----------+----------------+\n",
            "| agent  |   Access   | Language | Predicted |   Time Taken   |\n",
            "+--------+------------+----------+-----------+----------------+\n",
            "| spider | all-access |    zh    |     16    | 0:00:06.490480 |\n",
            "+--------+------------+----------+-----------+----------------+\n"
          ],
          "name": "stdout"
        }
      ]
    },
    {
      "cell_type": "code",
      "metadata": {
        "id": "mnekxcPlye3q"
      },
      "source": [
        "def final_2(set):\r\n",
        "  x = PrettyTable()\r\n",
        "  x = PrettyTable([\"agent\",\"Access\", \"Language\",'Predicted','Actual','SMAPE','Time Taken'])\r\n",
        "  for i in set:\r\n",
        "    start=datetime.datetime.now()\r\n",
        "    agent,access,language,predicted,actual=final(i[0],i[1])\r\n",
        "    smape=np.abs(actual-predicted)/((actual+predicted)/2)\r\n",
        "    x.add_row([agent,access,language,predicted,actual,np.round(smape,3),datetime.datetime.now()-start])\r\n",
        "  print(x)"
      ],
      "execution_count": null,
      "outputs": []
    },
    {
      "cell_type": "code",
      "metadata": {
        "colab": {
          "base_uri": "https://localhost:8080/"
        },
        "id": "5HCPSyYH3KcO",
        "outputId": "b956cfa4-dc6e-4b3e-aae0-1afeeb6f5d39"
      },
      "source": [
        "final_2([[\"5566_zh.wikipedia.org_all-access_spider\",\"2017-8-20\"],\r\n",
        "         [\"Intel_80386_zh.wikipedia.org_all-access_spider\",\"2017-8-10\"],\r\n",
        "         [\"Netflix_zh.wikipedia.org_all-access_spider\",\"2017-7-29\"],\r\n",
        "         [\"2PM_zh.wikipedia.org_all-access_spider\",\"2017-7-20\"]])"
      ],
      "execution_count": null,
      "outputs": [
        {
          "output_type": "stream",
          "text": [
            "WARNING:tensorflow:5 out of the last 5 calls to <function Model.make_predict_function.<locals>.predict_function at 0x7fbb0667af28> triggered tf.function retracing. Tracing is expensive and the excessive number of tracings could be due to (1) creating @tf.function repeatedly in a loop, (2) passing tensors with different shapes, (3) passing Python objects instead of tensors. For (1), please define your @tf.function outside of the loop. For (2), @tf.function has experimental_relax_shapes=True option that relaxes argument shapes that can avoid unnecessary retracing. For (3), please refer to https://www.tensorflow.org/tutorials/customization/performance#python_or_tensor_args and https://www.tensorflow.org/api_docs/python/tf/function for  more details.\n",
            "+--------+------------+----------+-----------+--------+-------+----------------+\n",
            "| agent  |   Access   | Language | Predicted | Actual | SMAPE |   Time Taken   |\n",
            "+--------+------------+----------+-----------+--------+-------+----------------+\n",
            "| spider | all-access |    zh    |     19    |   14   | 0.303 | 0:00:05.913324 |\n",
            "| spider | all-access |    zh    |     8     |   7    | 0.133 | 0:00:05.820181 |\n",
            "| spider | all-access |    zh    |     29    |   25   | 0.148 | 0:00:05.762735 |\n",
            "| spider | all-access |    zh    |     16    |   15   | 0.065 | 0:00:06.031186 |\n",
            "+--------+------------+----------+-----------+--------+-------+----------------+\n"
          ],
          "name": "stdout"
        }
      ]
    },
    {
      "cell_type": "code",
      "metadata": {
        "id": "b-n2p9Gl5pa1"
      },
      "source": [
        ""
      ],
      "execution_count": null,
      "outputs": []
    }
  ]
}